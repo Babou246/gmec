{
 "cells": [
  {
   "cell_type": "code",
   "execution_count": 7,
   "metadata": {},
   "outputs": [],
   "source": [
    "\n",
    "# noms_abreges = ['CDS_Amadou', 'ISGTR_MamadouLamine', 'ISCL_Safietou', 'ISCL_NdeyeMarie', 'ISCL_NdeyeMarie']\n",
    "\n",
    "#     # Effectuer la requête pour récupérer les emails correspondants\n",
    "#     emails = NomTable.query.filter(NomTable.nom_abrege.in_(noms_abreges)).all()"
   ]
  },
  {
   "cell_type": "code",
   "execution_count": 8,
   "metadata": {},
   "outputs": [
    {
     "data": {
      "text/plain": [
       "3"
      ]
     },
     "execution_count": 8,
     "metadata": {},
     "output_type": "execute_result"
    }
   ],
   "source": [
    "import os\n",
    "import random\n",
    "import pandas as pd\n",
    "\n",
    "random.randint(2,6)"
   ]
  },
  {
   "cell_type": "code",
   "execution_count": 9,
   "metadata": {},
   "outputs": [
    {
     "data": {
      "text/plain": [
       "7301"
      ]
     },
     "execution_count": 9,
     "metadata": {},
     "output_type": "execute_result"
    }
   ],
   "source": [
    "random.getrandbits(14)"
   ]
  },
  {
   "cell_type": "code",
   "execution_count": 10,
   "metadata": {},
   "outputs": [],
   "source": [
    "import smtplib"
   ]
  },
  {
   "cell_type": "code",
   "execution_count": 11,
   "metadata": {},
   "outputs": [],
   "source": [
    "server = smtplib.SMTP_SSL('smtp.gmail.com',465)\n"
   ]
  },
  {
   "cell_type": "code",
   "execution_count": 12,
   "metadata": {},
   "outputs": [],
   "source": [
    "df=pd.read_excel('uploads/ECHANT_CTR_2023-05.xlsx').head(3)"
   ]
  },
  {
   "cell_type": "code",
   "execution_count": 13,
   "metadata": {},
   "outputs": [
    {
     "name": "stdout",
     "output_type": "stream",
     "text": [
      "True\n",
      "True\n",
      "True\n"
     ]
    }
   ],
   "source": [
    "for index, row in df.iterrows():\n",
    "    print(pd.notnull(row['Date de résolution maximum']) or isinstance(row['Date de résolution maximum'], pd.Timestamp))"
   ]
  },
  {
   "cell_type": "code",
   "execution_count": 14,
   "metadata": {},
   "outputs": [
    {
     "data": {
      "text/plain": [
       "'/home/dev/desc_gmec/files_rejet'"
      ]
     },
     "execution_count": 14,
     "metadata": {},
     "output_type": "execute_result"
    }
   ],
   "source": [
    "os.path.join(os.getcwd(),'files_rejet')"
   ]
  },
  {
   "cell_type": "code",
   "execution_count": 15,
   "metadata": {},
   "outputs": [
    {
     "name": "stdout",
     "output_type": "stream",
     "text": [
      "0             CDS_Amadou\n",
      "1    ISGTR_MamadouLamine\n",
      "2        ISCL_NdeyeMarie\n",
      "3        ISCL_NdeyeMarie\n",
      "4              CDS_Seyni\n",
      "Name: XX_AGENT_RESPONSABLE, dtype: object\n"
     ]
    }
   ],
   "source": [
    "import os\n",
    "import glob\n",
    "import pandas as pd\n",
    "\n",
    "folder_path = os.path.join(os.getcwd(), 'files_rejet')\n",
    "\n",
    "# Obtenir la liste des fichiers dans le répertoire triés par date de modification\n",
    "file_list = glob.glob(os.path.join(folder_path, 'rejected_records_*.csv'))\n",
    "file_list.sort(key=os.path.getmtime)\n",
    "\n",
    "# Sélectionner le dernier fichier dans la liste\n",
    "latest_file = file_list[-1]\n",
    "\n",
    "# Charger le fichier avec pandas pour le traitement\n",
    "df = pd.read_csv(latest_file)\n",
    "\n",
    "print(df['XX_AGENT_RESPONSABLE'].head())\n"
   ]
  },
  {
   "cell_type": "code",
   "execution_count": 16,
   "metadata": {},
   "outputs": [],
   "source": [
    "data = pd.read_csv(latest_file)\n",
    "noms_abreges = data['XX_AGENT_RESPONSABLE'].tolist()\n"
   ]
  },
  {
   "cell_type": "code",
   "execution_count": 17,
   "metadata": {},
   "outputs": [
    {
     "data": {
      "text/plain": [
       "['CDS_Safietou',\n",
       " 'CDS_Raqui',\n",
       " 'ISGTR_PapaDemba',\n",
       " 'CDS_Dieynaba',\n",
       " 'ISCC_Aminata',\n",
       " 'CDS_Seyni',\n",
       " 'ISCL_NdeyeMarie',\n",
       " 'CDS_MarieRosine',\n",
       " 'ISCL_Ibrahima',\n",
       " 'ISDC_Sadibou',\n",
       " 'ISFAC_Talibouya',\n",
       " 'ISCL_Eleonore',\n",
       " 'CDS_Herve',\n",
       " 'ISDC_MamadouLamine',\n",
       " 'ISFAC_Chems',\n",
       " 'CDS_Fernande',\n",
       " 'ISREC_Sira',\n",
       " 'CDS_Amadou',\n",
       " 'ISCL_MameAwa',\n",
       " 'ISGTR_MamadouLamine',\n",
       " 'ISGRC_Alassane',\n",
       " 'ISCL_Maty']"
      ]
     },
     "execution_count": 17,
     "metadata": {},
     "output_type": "execute_result"
    }
   ],
   "source": [
    "noms_abreges = list(set(noms_abreges))\n",
    "noms_abreges"
   ]
  },
  {
   "cell_type": "code",
   "execution_count": 18,
   "metadata": {},
   "outputs": [
    {
     "data": {
      "text/plain": [
       "['CDS_MarieRosine',\n",
       " 'CDS_Seyni',\n",
       " 'ISGRC_Alassane',\n",
       " 'ISFAC_Talibouya',\n",
       " 'ISGTR_MamadouLamine',\n",
       " 'ISDC_Sadibou',\n",
       " 'ISCL_Maty',\n",
       " 'CDS_Amadou',\n",
       " 'ISCL_Safietou',\n",
       " 'CDS_Raqui',\n",
       " 'CDS_Fernande',\n",
       " 'CDS_Herve',\n",
       " 'ISCL_MameAwa',\n",
       " 'CDS_Safietou',\n",
       " 'ISFAC_Chems',\n",
       " 'ISCL_Ibrahima',\n",
       " 'CDS_Dieynaba',\n",
       " 'ISREC_Ababacar',\n",
       " 'ISCL_NdeyeMarie',\n",
       " 'ISCC_Aminata',\n",
       " 'ISDC_MamadouLamine']"
      ]
     },
     "execution_count": 18,
     "metadata": {},
     "output_type": "execute_result"
    }
   ],
   "source": [
    "['CDS_MarieRosine','CDS_Seyni','ISGRC_Alassane','ISFAC_Talibouya','ISGTR_MamadouLamine','ISDC_Sadibou','ISCL_Maty','CDS_Amadou','ISCL_Safietou','CDS_Raqui','CDS_Fernande','CDS_Herve','ISCL_MameAwa','CDS_Safietou','ISFAC_Chems','ISCL_Ibrahima','CDS_Dieynaba','ISREC_Ababacar','ISCL_NdeyeMarie','ISCC_Aminata','ISDC_MamadouLamine']"
   ]
  },
  {
   "cell_type": "code",
   "execution_count": 19,
   "metadata": {},
   "outputs": [
    {
     "data": {
      "text/plain": [
       "'safietou'"
      ]
     },
     "execution_count": 19,
     "metadata": {},
     "output_type": "execute_result"
    }
   ],
   "source": [
    "['safietou.ndiaye@sonatel-orange.com'][0].split('@')[0].split('.')[0]"
   ]
  },
  {
   "cell_type": "code",
   "execution_count": 20,
   "metadata": {},
   "outputs": [
    {
     "name": "stdout",
     "output_type": "stream",
     "text": [
      "Matrice A :\n",
      "[[ 3  1  2]\n",
      " [ 3  2  6]\n",
      " [ 6  1 -1]]\n",
      "\n",
      "Matrice L :\n",
      "[[ 1.  0.  0.]\n",
      " [ 1.  1.  0.]\n",
      " [ 2. -1.  1.]]\n",
      "\n",
      "Matrice U :\n",
      "[[ 3.  1.  2.]\n",
      " [ 0.  1.  4.]\n",
      " [ 0.  0. -1.]]\n"
     ]
    }
   ],
   "source": [
    "import numpy as np\n",
    "\n",
    "def actLU(A):\n",
    "    n = A.shape[0]\n",
    "    L = np.zeros((n, n))\n",
    "    U = np.zeros((n, n))\n",
    "\n",
    "    for i in range(n):\n",
    "        # Calcul de la matrice U\n",
    "        for k in range(i, n):\n",
    "            sum_ = 0\n",
    "            for j in range(i):\n",
    "                sum_ += L[i][j] * U[j][k]\n",
    "            U[i][k] = A[i][k] - sum_\n",
    "\n",
    "        # Calcul de la matrice L\n",
    "        for k in range(i, n):\n",
    "            if i == k:\n",
    "                L[i][i] = 1\n",
    "            else:\n",
    "                sum_ = 0\n",
    "                for j in range(i):\n",
    "                    sum_ += L[k][j] * U[j][i]\n",
    "                L[k][i] = (A[k][i] - sum_) / U[i][i]\n",
    "\n",
    "    return L, U\n",
    "\n",
    "# Matrice d'exemple\n",
    "A = np.array([[3, 1, 2], [3, 2, 6], [6, 1, -1]])\n",
    "\n",
    "# Appel de la fonction actLU\n",
    "L, U = actLU(A)\n",
    "\n",
    "# Affichage des résultats\n",
    "print(\"Matrice A :\")\n",
    "print(A)\n",
    "print(\"\\nMatrice L :\")\n",
    "print(L)\n",
    "print(\"\\nMatrice U :\")\n",
    "print(U)\n"
   ]
  },
  {
   "cell_type": "code",
   "execution_count": 21,
   "metadata": {},
   "outputs": [
    {
     "name": "stdout",
     "output_type": "stream",
     "text": [
      "Solution x :\n",
      "[-2.76  0.32  0.2 ]\n"
     ]
    }
   ],
   "source": [
    "import numpy as np\n",
    "\n",
    "def sol2(U, b):\n",
    "    n = U.shape[0]\n",
    "    x = np.zeros(n)\n",
    "\n",
    "    for i in range(n - 1, -1, -1):\n",
    "        sum_ = 0\n",
    "        for j in range(i + 1, n):\n",
    "            sum_ += U[i][j] * x[j]\n",
    "        x[i] = (b[i] - sum_) / U[i][i]\n",
    "\n",
    "    return x\n",
    "\n",
    "# Matrice U et vecteur b de l'exemple\n",
    "U = np.array([[-1, 2, 3], [0, 5, 7], [0, 0, 5]])\n",
    "b = np.array([4, 3, 1])\n",
    "\n",
    "# Appel de la fonction sol2\n",
    "x = sol2(U, b)\n",
    "\n",
    "# Affichage du résultat\n",
    "print(\"Solution x :\")\n",
    "print(x)\n"
   ]
  },
  {
   "attachments": {},
   "cell_type": "markdown",
   "metadata": {},
   "source": [
    "### 5 matrice tridiagonale"
   ]
  },
  {
   "cell_type": "code",
   "execution_count": null,
   "metadata": {},
   "outputs": [],
   "source": [
    "# 1. Montrer que la triangularisation revient `a poser :\n",
    "def solve_tridiagonal_system(a, b, c, k):\n",
    "    n = len(b)\n",
    "    w = [0] * n\n",
    "    y = [0] * n\n",
    "\n",
    "    # Calcul des variables w et y\n",
    "    w[0] = c[0] / b[0]\n",
    "    y[0] = k[0] / b[0]\n",
    "\n",
    "    for i in range(1, n):\n",
    "        w[i] = c[i] / (b[i] - a[i] * w[i-1])\n",
    "        y[i] = (k[i] - a[i] * y[i-1]) / (b[i] - a[i] * w[i-1])\n",
    "\n",
    "    return w, y\n",
    "\n",
    "# Exemple d'utilisation\n",
    "a = [0, e2, ..., en]  # Les éléments diagonaux inférieurs\n",
    "b = [a1, a2, ..., an]  # Les éléments diagonaux principaux\n",
    "c = [c1, c2, ..., cn-1]  # Les éléments diagonaux supérieurs\n",
    "k = [k1, k2, ..., kn]  # Les termes constants du système\n",
    "\n",
    "w, y = solve_tridiagonal_system(a, b, c, k)\n",
    "\n",
    "# Les tableaux w et y contiennent les valeurs correspondantes aux équations désirées.\n"
   ]
  },
  {
   "attachments": {},
   "cell_type": "markdown",
   "metadata": {},
   "source": [
    "Pour évaluer le nombre d'opérations nécessaires pour résoudre le système tridiagonal à l'aide de la méthode de Gauss, on peut compter le nombre total d'opérations effectuées dans l'algorithme.\n",
    "\n",
    "Dans l'algorithme précédent, le nombre d'opérations principales est lié à la boucle for qui itère de 1 à n-1, ce qui représente n-1 itérations. À chaque itération, il y a quelques opérations de calcul, mais elles sont généralement de l'ordre de grandeur constant par rapport à n. Par conséquent, on peut approximer le nombre total d'opérations principales par (n-1)."
   ]
  },
  {
   "cell_type": "code",
   "execution_count": null,
   "metadata": {},
   "outputs": [],
   "source": [
    "def solve_tridiagonal_system(a, b, c, k):\n",
    "    n = len(b)\n",
    "    w = [0] * n\n",
    "    y = [0] * n\n",
    "\n",
    "    w[0] = c[0] / b[0]\n",
    "    y[0] = k[0] / b[0]\n",
    "\n",
    "    for i in range(1, n):\n",
    "        w[i] = c[i] / (b[i] - a[i] * w[i-1])\n",
    "        y[i] = (k[i] - a[i] * y[i-1]) / (b[i] - a[i] * w[i-1])\n",
    "\n",
    "    return w, y\n",
    "\n",
    "# Exemple d'utilisation\n",
    "a = [0, e2, ..., en]\n",
    "b = [a1, a2, ..., an]\n",
    "c = [c1, c2, ..., cn-1]\n",
    "k = [k1, k2, ..., kn]\n",
    "\n",
    "w, y = solve_tridiagonal_system(a, b, c, k)\n",
    "\n",
    "# Les tableaux w et y contiennent les valeurs correspondantes aux équations désirées.\n"
   ]
  },
  {
   "cell_type": "code",
   "execution_count": null,
   "metadata": {},
   "outputs": [],
   "source": [
    "\n",
    "import numpy as np\n",
    "\n",
    "# Définition de la matrice C et du vecteur d\n",
    "C = np.array([[3, 0, -1, 0],\n",
    "              [2, 1, 1, 3],\n",
    "              [0, 1, 0, -1],\n",
    "              [0, 0, 0, 1]])\n",
    "\n",
    "d = np.array([1, 1, 3, 4, 3, 5])\n",
    "\n",
    "# Séparation du système en une sous-matrice 3x3 et une inconnue x4\n",
    "A = C[:3, :3]\n",
    "b = d[:3]\n",
    "\n",
    "# Résolution pour l'inconnue x4\n",
    "x4 = d[3] / C[3, 3]\n",
    "\n",
    "# Résolution du système 3x3 restant\n",
    "A[2, 2] -= C[2, 3] * C[3, 2] / C[3, 3]\n",
    "b[2] -= C[2, 3] * d[3] / C[3, 3]\n",
    "\n",
    "# Factorisation LU\n",
    "L = np.eye(3)\n",
    "U = np.zeros((3, 3))\n",
    "\n",
    "for i in range(3):\n",
    "    for j in range(i, 3):\n",
    "        U[i, j] = A[i, j] - np.dot(L[i, :i], U[:i, j])\n",
    "    for j in range(i + 1, 3):\n",
    "        L[j, i] = (A[j, i] - np.dot(L[j, :i], U[:i, i])) / U[i, i]\n",
    "\n",
    "# Résolution du système Ax = b\n",
    "y = np.linalg.solve(L, b)\n",
    "x = np.linalg.solve(U, y)\n",
    "\n",
    "# Calcul de la matrice inverse A^-1 à partir de A = LU\n",
    "A_inv = np.linalg.inv(A)\n",
    "\n",
    "# Affichage des résultats\n",
    "print(\"x4 =\", x4)\n",
    "print(\"Système 3x3 restant :\")\n",
    "print(\"A =\")\n",
    "print(A)\n",
    "print(\"b =\", b)\n",
    "print(\"L =\")\n",
    "print(L)\n",
    "print(\"U =\")\n",
    "print(U)\n",
    "print(\"Solution x =\", x)\n",
    "print(\"Matrice inverse A^-1 :\")\n",
    "print(A_inv)\n"
   ]
  },
  {
   "attachments": {},
   "cell_type": "markdown",
   "metadata": {},
   "source": [
    "Ce script utilise la bibliothèque NumPy pour effectuer les opérations matricielles. Assurez-vous d'avoir NumPy installé pour l'exécuter.\n",
    "\n",
    "Les commentaires dans le script expliquent les différentes étapes, y compris la séparation du système en une sous-matrice 3x3 et une inconnue, la résolution du système pour l'inconnue x4, la factorisation LU de la sous-matrice 3x3, la résolution du système restant et le calcul de la matrice inverse A^-1 à partir de la factorisation LU.\n",
    "\n",
    "N'hésitez pas à me demander des éclaircissements supplémentaires si nécessaire."
   ]
  },
  {
   "attachments": {},
   "cell_type": "markdown",
   "metadata": {},
   "source": []
  },
  {
   "cell_type": "code",
   "execution_count": null,
   "metadata": {},
   "outputs": [
    {
     "name": "stdout",
     "output_type": "stream",
     "text": [
      "Inconnue x4 = 4.0\n",
      "Système 3x3 restant :\n",
      "A =\n",
      "[[ 3  0 -1]\n",
      " [ 2  1  1]\n",
      " [ 0  1  0]]\n",
      "b = [1 1 7]\n",
      "Solution x = [-1.  7. -4.]\n"
     ]
    }
   ],
   "source": [
    "import numpy as np\n",
    "\n",
    "# Définition de la matrice C et du vecteur d\n",
    "C = np.array([[3, 0, -1, 0],\n",
    "              [2, 1, 1, 3],\n",
    "              [0, 1, 0, -1],\n",
    "              [0, 0, 0, 1]])\n",
    "\n",
    "d = np.array([1, 1, 3, 4, 3, 5])\n",
    "\n",
    "# Séparation du système en une sous-matrice 3x3 et une inconnue x4\n",
    "A = C[:3, :3]\n",
    "b = d[:3]\n",
    "\n",
    "# Résolution pour l'inconnue x4\n",
    "x4 = d[3] / C[3, 3]\n",
    "\n",
    "# Résolution du système 3x3 restant\n",
    "A[2, 2] -= C[2, 3] * C[3, 2] / C[3, 3]\n",
    "b[2] -= C[2, 3] * d[3] / C[3, 3]\n",
    "\n",
    "# Résolution du système 3x3\n",
    "x = np.linalg.solve(A, b)\n",
    "\n",
    "# Affichage des résultats\n",
    "print(\"Inconnue x4 =\", x4)\n",
    "print(\"Système 3x3 restant :\")\n",
    "print(\"A =\")\n",
    "print(A)\n",
    "print(\"b =\", b)\n",
    "print(\"Solution x =\", x)\n"
   ]
  },
  {
   "attachments": {},
   "cell_type": "markdown",
   "metadata": {},
   "source": [
    "### 1. La r´esolution de ce syst`eme peut ˆetre ramen´ee `a celle d?un syst`eme line?aire\n",
    "### de dimension trois, l’inconnue x4 ´etant facile `a d´eterminer. Donner cette\n",
    "### inconnue et le syst`eme 3 × 3 restant, que l’on notera Ax = b.\n",
    "### proposer une solution"
   ]
  },
  {
   "cell_type": "code",
   "execution_count": null,
   "metadata": {},
   "outputs": [
    {
     "name": "stdout",
     "output_type": "stream",
     "text": [
      "Solution :\n",
      "x1 = -0.6666666666666666\n",
      "x2 = 4.0\n",
      "x3 = -7.0\n"
     ]
    }
   ],
   "source": [
    "import numpy as np\n",
    "\n",
    "# Matrice A 3x3\n",
    "A = np.array([[3, 0, -1],\n",
    "              [2, 1, 1],\n",
    "              [1, 1, -1]])\n",
    "\n",
    "# Vecteur b\n",
    "b = np.array([1, 1, 3])\n",
    "\n",
    "# Résolution du système 3x3\n",
    "x4 = 4  # Valeur de x4 trouvée précédemment\n",
    "b = b - A[:, 2] * x4  # Mise à jour du vecteur b en enlevant l'effet de x4\n",
    "\n",
    "# Méthode de substitution arrière\n",
    "x = np.zeros(3)\n",
    "n = len(x)\n",
    "\n",
    "x[n-1] = b[n-1] / A[n-1, n-1]  # Calcul de la dernière inconnue\n",
    "\n",
    "for i in range(n-2, -1, -1):\n",
    "    x[i] = (b[i] - np.dot(A[i, i+1:], x[i+1:])) / A[i, i]\n",
    "\n",
    "# Affichage de la solution\n",
    "print(\"Solution :\")\n",
    "for i in range(n):\n",
    "    print(f\"x{i+1} =\", x[i])\n"
   ]
  },
  {
   "attachments": {},
   "cell_type": "markdown",
   "metadata": {},
   "source": [
    "### 2. Factoriser la matrice A en produit LU (o`u L est triangulaire inf´erieure\n",
    "### `a diagonale unit´e et U triangulaire sup´erieure) puis r´esoudre le syst`eme.\n",
    "### D´eduire A−1 `a partir de A = LU."
   ]
  },
  {
   "cell_type": "code",
   "execution_count": null,
   "metadata": {},
   "outputs": [],
   "source": [
    "import numpy as np\n",
    "\n",
    "# Matrice A 4x4\n",
    "A = np.array([[3, 0, -1, 0],\n",
    "              [2, 1, 1, 0],\n",
    "              [1, 1, 0, -1],\n",
    "              [0, 0, 0, 1]])\n",
    "\n",
    "# Vecteur d\n",
    "d = np.array([1, 1, 3, 4])\n",
    "\n",
    "# Factorisation LU\n",
    "P, L, U = scipy.linalg.lu(A)\n",
    "\n",
    "# Résolution du système LUx = d\n",
    "y = np.linalg.solve(L, P.dot(d))\n",
    "x = np.linalg.solve(U, y)\n",
    "\n",
    "# Calcul de A^(-1)\n",
    "A_inv = np.linalg.inv(A)\n",
    "\n",
    "# Affichage des résultats\n",
    "print(\"Matrice L :\")\n",
    "print(L)\n",
    "print(\"Matrice U :\")\n",
    "print(U)\n",
    "print(\"Vecteur solution x :\")\n",
    "print(x)\n",
    "print(\"Matrice inverse A^(-1) :\")\n",
    "print(A_inv)\n"
   ]
  },
  {
   "attachments": {},
   "cell_type": "markdown",
   "metadata": {},
   "source": [
    "Dans ce code, nous utilisons la fonction scipy.linalg.lu pour effectuer la factorisation LU de la matrice A. Cette fonction retourne trois matrices : P (matrice de permutation), L (matrice triangulaire inférieure unitaire) et U (matrice triangulaire supérieure). Ensuite, nous utilisons les fonctions numpy.linalg.solve pour résoudre les systèmes triangulaires inférieurs et supérieurs afin d'obtenir la solution x du système original.\n",
    "\n",
    "Enfin, nous utilisons la fonction numpy.linalg.inv pour calculer l'inverse de la matrice A."
   ]
  },
  {
   "cell_type": "code",
   "execution_count": null,
   "metadata": {},
   "outputs": [],
   "source": [
    "\n",
    "def send_daily_reminder_email():\n",
    "    # Calculate the date for the previous day\n",
    "    previous_day = datetime.now() - timedelta(days=1)\n",
    "    previous_day = previous_day.date()\n",
    "\n",
    "    # Query the tickets that are pending and have a resolution date before the previous day\n",
    "    pending_tickets = Ticket.query.filter(Ticket.statut_demande == 'Défaut (OUI/NON)',\n",
    "                                          Ticket.date_resolution_max < previous_day).all()\n",
    "\n",
    "    # Group the tickets by agent\n",
    "    tickets_by_agent = {}\n",
    "    for ticket in pending_tickets:\n",
    "        if ticket.evaluateur in tickets_by_agent:\n",
    "            tickets_by_agent[ticket.evaluateur].append(ticket)\n",
    "        else:\n",
    "            tickets_by_agent[ticket.evaluateur] = [ticket]\n",
    "\n",
    "    # Send the reminder email to each agent with pending tasks\n",
    "    for agent, tickets in tickets_by_agent.items():\n",
    "\n",
    "        # Get agent information\n",
    "        agent_info = User.query.filter(User.nom_abrege == agent).first()\n",
    "        if agent_info:\n",
    "            recipient = agent_info.email\n",
    "            nom_abrege_agent = agent_info.nom_abrege\n",
    "            login = agent_info.login\n",
    "            nom = agent_info.nom\n",
    "\n",
    "            subject = 'Rappel : Tâches en attente dans QUALITE'\n",
    "            body = f\"Bonjour {nom} {nom_abrege_agent},\" \\\n",
    "                   f\"\\nVous avez des tâches en attente de traitement dans QUALITE. Merci de les prendre en charge.\" \\\n",
    "                   f\"\\n\\nVoici la liste des tâches en attente :\"\n",
    "\n",
    "            for ticket in tickets:\n",
    "                body += f\"\\n\\n- Libellé de la tâche : {ticket.libelle_service}\" \\\n",
    "                        f\"\\n  Action attendue : {ticket.description}\" \\\n",
    "                        f\"\\n  Date d'imputation : {ticket.enregistre_le}\" \\\n",
    "                        f\"\\n  Date du jour : {previous_day}\" \\\n",
    "                        f\"\\n  Délai écoulé : {previous_day - ticket.enregistre_le}\"\n",
    "\n",
    "            body += \"\\n\\nCordialement,\\nL'équipe QUALITE\"\n",
    "\n",
    "            msg = Message(subject, sender=app.config['MAIL_USERNAME'], recipients=[\"diopabubakr79@gmail.com\"])\n",
    "            msg.body = body\n",
    "            mail.send(msg)\n",
    "\n",
    "            # Send a copy to the chef de service or chef de département\n",
    "            if agent_info.role.role == 'Agent':\n",
    "                chef_service = User.query.filter(User.service.nom == agent_info.service.nom, User.role.role == 'Chef de Service').first()\n",
    "                if chef_service:\n",
    "                    msg_cc = Message(subject, sender=app.config['MAIL_USERNAME'], recipients=['compte14031970@gmail.com'])\n",
    "                    msg_cc.body = body\n",
    "                    mail.send(msg_cc)\n",
    "\n",
    "            elif agent_info.role.role == 'Chef de Service':\n",
    "                chef_departement = User.query.filter(User.departement == agent_info.departement, User.role == 'Chef de département').first()\n",
    "                if chef_departement:\n",
    "                    msg_cc = Message(subject, sender=app.config['MAIL_USERNAME'], recipients=['diopb4826@gmail.com'])\n",
    "                    msg_cc.body = body\n",
    "                    mail.send(msg_cc)"
   ]
  },
  {
   "cell_type": "code",
   "execution_count": 24,
   "metadata": {},
   "outputs": [
    {
     "name": "stdout",
     "output_type": "stream",
     "text": [
      "Presque\n"
     ]
    }
   ],
   "source": [
    "m = 1\n",
    "\n",
    "if m ==2 :\n",
    "    print(\"Trouvé\")\n",
    "elif m == 1:\n",
    "    print('Presque')\n",
    "else :\n",
    "    print('Fauché')"
   ]
  },
  {
   "cell_type": "code",
   "execution_count": 33,
   "metadata": {},
   "outputs": [
    {
     "name": "stdout",
     "output_type": "stream",
     "text": [
      "10\n",
      "9\n",
      "8\n",
      "7\n",
      "6\n",
      "5\n",
      "4\n",
      "Vous êtes presque arrivé\n",
      "3\n",
      "2\n",
      "1\n"
     ]
    }
   ],
   "source": [
    "m= 10\n",
    "\n",
    "while m:\n",
    "    print(m)\n",
    "    if m==4:\n",
    "        print(\"Vous êtes presque arrivé\")\n",
    "    m-=1\n"
   ]
  },
  {
   "cell_type": "code",
   "execution_count": null,
   "metadata": {},
   "outputs": [],
   "source": []
  },
  {
   "cell_type": "code",
   "execution_count": null,
   "metadata": {},
   "outputs": [],
   "source": []
  },
  {
   "cell_type": "code",
   "execution_count": null,
   "metadata": {},
   "outputs": [],
   "source": []
  },
  {
   "cell_type": "code",
   "execution_count": null,
   "metadata": {},
   "outputs": [],
   "source": []
  },
  {
   "cell_type": "code",
   "execution_count": null,
   "metadata": {},
   "outputs": [],
   "source": []
  }
 ],
 "metadata": {
  "kernelspec": {
   "display_name": "env",
   "language": "python",
   "name": "python3"
  },
  "language_info": {
   "codemirror_mode": {
    "name": "ipython",
    "version": 3
   },
   "file_extension": ".py",
   "mimetype": "text/x-python",
   "name": "python",
   "nbconvert_exporter": "python",
   "pygments_lexer": "ipython3",
   "version": "3.10.6"
  },
  "orig_nbformat": 4
 },
 "nbformat": 4,
 "nbformat_minor": 2
}
